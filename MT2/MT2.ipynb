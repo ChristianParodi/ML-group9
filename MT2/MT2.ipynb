{
  "cells": [
    {
      "cell_type": "markdown",
      "id": "1f6024a2",
      "metadata": {
        "id": "1f6024a2"
      },
      "source": [
        "# Mid-Term\n",
        "\n",
        "In this second mid-term assignment we focus on Kernel Regularized Least Squares (KRLS).\n",
        "You are given different synthetic datasets (only training and validation!) to be used with KRLS. To ease your life, we provide the code for KRLS training and inference.\n",
        "\n",
        "What you need to do:\n",
        "- Set up a pipeline for training KRLS for different choices of the kernel function. This should also include an appropriate model selection (meaning that you need to appropriately select the value of the hyperparameter and, if needed, the parameters of the kernel function)\n",
        "- Select among the different solutions the one that you think is the best for the provided datasets. We will evaluate your model on the test sets. To facilitate this step, please provide the code for\n",
        "    - Final training, meaning the training with the hyperparameters and kernel parameters that you selected for each dataset\n",
        "    - Test of the trained model on the test set (this last step can not be run by you, as you don't have the test)\n",
        "    \n",
        "PLEASE, COMMENT YOUR CODE!\n",
        "\n",
        "We provide here two functions to load data, compute the MSE, train and test KRLS.\n",
        "Moreover, here are some details about the datasets:\n",
        "- dataset 1: 700 points (500 for training and 200 for validation) in 5 dimensions\n",
        "- dataset 2: 4500 points (4000 for training and 500 for validation) in 5 dimensions\n",
        "- dataset 3: 150 points (100 for training and 50 for validation) in 5 dimensions\n",
        "- dataset 4: 2500 points (2000 for training and 500 for validation) in 10 dimensions"
      ]
    },
    {
      "cell_type": "code",
      "execution_count": null,
      "id": "d131775e",
      "metadata": {
        "id": "d131775e"
      },
      "outputs": [],
      "source": [
        "import numpy as np\n",
        "import scipy\n",
        "import matplotlib.pyplot as plt"
      ]
    },
    {
      "cell_type": "markdown",
      "id": "552a89a7",
      "metadata": {
        "id": "552a89a7"
      },
      "source": [
        "We provide here two functions to load data and compute the MSE"
      ]
    },
    {
      "cell_type": "code",
      "execution_count": null,
      "id": "75012523",
      "metadata": {
        "id": "75012523"
      },
      "outputs": [],
      "source": [
        "DATASET_PATH = \"./datasets/\"\n",
        "\n",
        "\n",
        "def load_dataset(name, d):\n",
        "    # name: file path\n",
        "    # d : dimension of input space\n",
        "    X, y = [], []\n",
        "    with open(\"{}\".format(name), 'r') as f:\n",
        "        for line in f.readlines():\n",
        "            splitted = line.split(\",\")\n",
        "            X.append(splitted[:-1])\n",
        "            y.append(splitted[-1])\n",
        "    X, y = np.asarray(X, dtype=np.float64).reshape(-1,\n",
        "                                                   d), np.asarray(y, dtype=np.float64).reshape(-1, 1)\n",
        "    return X, y\n",
        "\n",
        "\n",
        "def calc_err(Ypred, Ytrue):\n",
        "    return np.mean((Ypred-Ytrue)**2)\n",
        "\n",
        "\n",
        "def squared_distances(X1, X2):\n",
        "    \"\"\"Compute the matrix of pairwise squared-distances between all points in X1 and in X2.\n",
        "    \"\"\"\n",
        "    return scipy.spatial.distance.cdist(X1, X2, metric='seuclidean')\n",
        "\n",
        "\n",
        "def kernel_matrix(X1, X2, kernel_type, param):\n",
        "    # X1 : array of shape n x d\n",
        "    # X2 : array of shape m x d\n",
        "    if kernel_type == 'linear':\n",
        "        return X1 @ X2.T\n",
        "    elif kernel_type == 'polynomial':\n",
        "        exponent = param\n",
        "        return (X1 @ X2.T + 1)**exponent\n",
        "    elif kernel_type == 'gaussian':\n",
        "        lengthscale = param\n",
        "        return np.exp((-squared_distances(X1, X2)) / (2 * (lengthscale**2)))\n",
        "    else:\n",
        "        raise ValueError(kernel_type)\n",
        "\n",
        "\n",
        "def krls_train(x, y, reg_par, kernel_type, kernel_par):\n",
        "    n, D = x.shape\n",
        "    w = np.linalg.solve((kernel_matrix(x, x, kernel_type,\n",
        "                        kernel_par) + (n * reg_par * np.identity(n))), y)\n",
        "    return w\n",
        "\n",
        "\n",
        "def krls_predict(x_ts, x_tr, w, kernel_type, kernel_par):\n",
        "    return kernel_matrix(x_ts, x_tr, kernel_type, kernel_par) @ w\n",
        "\n",
        "# KFoldCV\n",
        "\n",
        "\n",
        "def krls_kfold_valerr(x_tr, y_tr, num_folds, reg_par, kernel_type, kernel_par):\n",
        "    \"\"\"\n",
        "    Compute the k-fold cross-validation error for one KRLS model (with speficied regularization,\n",
        "    kernel and kernel parameter).\n",
        "\n",
        "    This function returns both the training errors and the validation errors\n",
        "    obtained from CV (as numpy arrays).\n",
        "    \"\"\"\n",
        "    if num_folds <= 1:\n",
        "        raise Exception(\"Please supply a number of folds > 1\")\n",
        "\n",
        "    n_tot = x_tr.shape[0]\n",
        "    n_val = int(n_tot // num_folds)\n",
        "\n",
        "    tr_errs, val_errs = [], []\n",
        "    # `split_idx`: a list of arrays, each containing the validation indices for 1 fold\n",
        "    rand_idx = np.random.choice(n_tot, size=n_tot, replace=False)\n",
        "    split_idx = np.array_split(rand_idx, num_folds)\n",
        "    for fold in range(num_folds):\n",
        "        # Set the indices in boolean mask for all validation samples to `True`\n",
        "        val_mask = np.zeros(n_tot, dtype=bool)\n",
        "        val_mask[split_idx[fold]] = True\n",
        "\n",
        "        kf_x_tr = x_tr[~val_mask]\n",
        "        kf_y_tr = y_tr[~val_mask]\n",
        "        kf_x_val = x_tr[val_mask]\n",
        "        kf_y_val = y_tr[val_mask]\n",
        "\n",
        "        w_krls = krls_train(kf_x_tr, kf_y_tr, reg_par=reg_par,\n",
        "                            kernel_type=kernel_type, kernel_par=kernel_par)\n",
        "\n",
        "        pred_tr = krls_predict(kf_x_tr, kf_x_tr, w_krls,\n",
        "                               kernel_type=kernel_type, kernel_par=kernel_par)\n",
        "        pred_val = krls_predict(kf_x_val, kf_x_tr, w_krls,\n",
        "                                kernel_type=kernel_type, kernel_par=kernel_par)\n",
        "        tr_errs.append(calc_err(pred_tr, kf_y_tr))\n",
        "        val_errs.append(calc_err(pred_val, kf_y_val))\n",
        "    return np.asarray(tr_errs), np.asarray(val_errs)\n",
        "\n",
        "\n",
        "def krls_kfoldcv(x_tr, y_tr, num_folds, reg_par_list, kernel_type, kernel_par_list):\n",
        "    \"\"\"Choose the best parameters for both the regularizer and the kernel parameter according to K-Fold CV.\n",
        "    \"\"\"\n",
        "    errors = np.zeros((len(reg_par_list), len(kernel_par_list)))\n",
        "    for i, reg_par in enumerate(reg_par_list):\n",
        "        for j, kernel_par in enumerate(kernel_par_list):\n",
        "            tr_error, val_error = krls_kfold_valerr(\n",
        "                x_tr, y_tr, num_folds, reg_par, kernel_type, kernel_par)\n",
        "            errors[i][j] = np.mean(val_error)\n",
        "\n",
        "    best_reg_par = reg_par_list[np.unravel_index(\n",
        "        np.argmin(errors), errors.shape)[0]]\n",
        "    best_kernel_par = kernel_par_list[np.unravel_index(\n",
        "        np.argmin(errors), errors.shape)[1]]\n",
        "    best_err = np.min(errors)\n",
        "    print(f\"The best error (MSE={best_err:.2f}) was obtained with \"\n",
        "          f\"lambda={best_reg_par:.1g}, kernel-parameter={best_kernel_par}\")\n",
        "    return best_reg_par, best_kernel_par, best_err"
      ]
    },
    {
      "cell_type": "markdown",
      "id": "phAEDjGhW8p7",
      "metadata": {
        "id": "phAEDjGhW8p7"
      },
      "source": [
        "# Dataset loading"
      ]
    },
    {
      "cell_type": "code",
      "execution_count": null,
      "id": "lhjxqbojW-_K",
      "metadata": {
        "id": "lhjxqbojW-_K"
      },
      "outputs": [],
      "source": [
        "(Xtr_1, ytr_1), (Xte_1, yte_1) = load_dataset(DATASET_PATH +\n",
        "                                              \"dataset_1_train\", d=5), load_dataset(DATASET_PATH + \"dataset_1_val\", d=5)\n",
        "(Xtr_2, ytr_2), (Xte_2, yte_2) = load_dataset(DATASET_PATH +\n",
        "                                              \"dataset_2_train\", d=5), load_dataset(DATASET_PATH + \"dataset_2_val\", d=5)\n",
        "(Xtr_3, ytr_3), (Xte_3, yte_3) = load_dataset(DATASET_PATH +\n",
        "                                              \"dataset_3_train\", d=5), load_dataset(DATASET_PATH + \"dataset_3_val\", d=5)\n",
        "(Xtr_4, ytr_4), (Xte_4, yte_4) = load_dataset(DATASET_PATH +\n",
        "                                              \"dataset_4_train\", d=10), load_dataset(DATASET_PATH + \"dataset_4_val\", d=10)"
      ]
    },
    {
      "cell_type": "markdown",
      "id": "zwnHgodYW2SK",
      "metadata": {
        "id": "zwnHgodYW2SK"
      },
      "source": [
        "# Training KRLS"
      ]
    },
    {
      "cell_type": "code",
      "execution_count": null,
      "id": "sQi3M_s_W02_",
      "metadata": {
        "id": "sQi3M_s_W02_"
      },
      "outputs": [],
      "source": [
        "KF = 5\n",
        "lam_list = np.logspace(-9, 2, 10)\n",
        "model_data_test = {}  # Dictioanary that will store the results for each dataset\n",
        "\n",
        "\n",
        "def model_selection(Xtr, ytr):\n",
        "    ''' \n",
        "    Select the best kernel type and best kernel param between all the choices\n",
        "    '''\n",
        "\n",
        "    # List in which we will save the best error associated with the best kernel type,\n",
        "    # best kernel parameter and best lambda\n",
        "    err = []\n",
        "\n",
        "    # We train the model on each kernel type, with different kernel parameters\n",
        "    # NOTE: each kernel has a different range of kernel parameters, so it's important\n",
        "    # to re-define those for each kernel type\n",
        "    for k_pars, k_type in [([None], \"linear\"), (np.arange(2, 11), \"polynomial\"), (np.arange(0.1, 1), \"gaussian\")]:\n",
        "        best_lam, best_k_par, best_err = krls_kfoldcv(\n",
        "            Xtr, ytr, KF, lam_list, k_type, k_pars)\n",
        "        err.append((best_lam, best_k_par, best_err, k_type))\n",
        "\n",
        "    # We select the best hyperparameters by taking the one\n",
        "    # that minimizes the error\n",
        "    best_lam, best_k_par, best_err, best_k_type = min(\n",
        "        err, key=lambda tup: tup[2])\n",
        "    w = krls_train(Xtr, ytr, best_lam, best_k_type, best_k_par)\n",
        "\n",
        "    print(f\"Best Kernel type: {best_k_type}\")\n",
        "    print(f\"Best Kernel parameter: {best_k_par}\")\n",
        "    print(f\"Best Regularization parameter: {best_lam}\")\n",
        "    print(f\"Best Error parameter: {best_err}\")\n",
        "\n",
        "    return w, best_k_par, best_k_type"
      ]
    },
    {
      "cell_type": "markdown",
      "id": "13f19684",
      "metadata": {},
      "source": [
        "## Dataset 1"
      ]
    },
    {
      "cell_type": "code",
      "execution_count": null,
      "id": "XkYt0dCyM0yU",
      "metadata": {
        "id": "XkYt0dCyM0yU"
      },
      "outputs": [],
      "source": [
        "w, best_k_par, best_k_type = model_selection(Xtr_1, ytr_1)\n",
        "y_pred = krls_predict(Xte_1, Xtr_1, w, best_k_type, best_k_par)\n",
        "model_data_test[\"dataset_1\"] = (w, best_k_type, best_k_par)\n",
        "\n",
        "fig, ax = plt.subplots()\n",
        "plt.title(\"Dataset 1\")\n",
        "ax.scatter(Xte_1[:, 0], yte_1, label=\"True\")\n",
        "ax.scatter(Xte_1[:200, 0], y_pred, label=\"Predict\")\n",
        "ax.legend(loc=\"best\")"
      ]
    },
    {
      "cell_type": "markdown",
      "id": "c0700fd1",
      "metadata": {},
      "source": [
        "## Dataset 2"
      ]
    },
    {
      "cell_type": "code",
      "execution_count": null,
      "id": "3Zyj5KXLM3p5",
      "metadata": {
        "id": "3Zyj5KXLM3p5"
      },
      "outputs": [],
      "source": [
        "w, best_k_par, best_k_type = model_selection(Xtr_2, ytr_2)\n",
        "y_pred = krls_predict(Xte_2, Xtr_2, w, best_k_type, best_k_par)\n",
        "model_data_test[\"dataset_2\"] = (w, best_k_type, best_k_par)\n",
        "\n",
        "fig, ax = plt.subplots()\n",
        "plt.title(\"Dataset 2\")\n",
        "ax.scatter(Xte_2[:, 0], yte_2, label=\"True\")\n",
        "ax.scatter(Xte_2[:500, 0], y_pred, label=\"Predict\")\n",
        "ax.legend(loc=\"best\")"
      ]
    },
    {
      "cell_type": "markdown",
      "id": "226b8591",
      "metadata": {},
      "source": [
        "## Dataset 3"
      ]
    },
    {
      "cell_type": "code",
      "execution_count": null,
      "id": "z46CnFC6M689",
      "metadata": {
        "id": "z46CnFC6M689"
      },
      "outputs": [],
      "source": [
        "w, best_k_par, best_k_type = model_selection(Xtr_3, ytr_3)\n",
        "y_pred = krls_predict(Xte_3, Xtr_3, w, best_k_type, best_k_par)\n",
        "model_data_test[\"dataset_3\"] = (w, best_k_type, best_k_par)\n",
        "\n",
        "fig, ax = plt.subplots()\n",
        "plt.title(\"Dataset 3\")\n",
        "ax.scatter(Xte_3[:, 0], yte_3, label=\"True\")\n",
        "ax.scatter(Xte_3[:50, 0], y_pred, label=\"Predict\")\n",
        "ax.legend(loc=\"best\")"
      ]
    },
    {
      "cell_type": "markdown",
      "id": "00cca710",
      "metadata": {},
      "source": [
        "## Dataset 4"
      ]
    },
    {
      "cell_type": "code",
      "execution_count": null,
      "id": "Sz14LeSUM7z5",
      "metadata": {
        "id": "Sz14LeSUM7z5"
      },
      "outputs": [],
      "source": [
        "w, best_k_par, best_k_type = model_selection(Xtr_4, ytr_4)\n",
        "y_pred = krls_predict(Xte_4, Xtr_4, w, best_k_type, best_k_par)\n",
        "model_data_test[\"dataset_4\"] = (w, best_k_type, best_k_par)\n",
        "\n",
        "fig, ax = plt.subplots()\n",
        "plt.title(\"Dataset 4\")\n",
        "ax.scatter(Xte_4[:, 0], yte_4, label=\"True\")\n",
        "ax.scatter(Xte_4[:500, 0], y_pred, label=\"Predict\")\n",
        "ax.legend(loc=\"best\")"
      ]
    },
    {
      "cell_type": "markdown",
      "id": "01709aab",
      "metadata": {},
      "source": [
        "# Conclusion\n",
        "\n",
        "## Usage\n",
        "\n",
        "The dictionary `model_data_test` will store for each dataset, its best kernel type and best kernel parameter, i.e. the ones for which the error is minimized\n",
        "\n",
        "```py\n",
        "model_data_test[\"dataset_1\"] = (w, best_kernel_for_dataset_1, best_kernel_par_for_dataset_1)\n",
        "...\n",
        "```\n",
        "\n",
        "to predict the results on a test set:\n",
        "\n",
        "```py\n",
        "w, best_k, best_k_par = model_data_test[\"dataset_n\"]\n",
        "y_pred_te = krls_predict(Xts, Xtr, w, best_k, best_k_par)\n",
        "```"
      ]
    },
    {
      "cell_type": "code",
      "execution_count": null,
      "id": "a1c900c0",
      "metadata": {},
      "outputs": [],
      "source": [
        "# Load your test sets here\n",
        "(Xts_1, yts_1) = load_dataset(..., d=...)\n",
        "(Xts_2, yts_2) = load_dataset(..., d=...)\n",
        "(Xts_3, yts_3) = load_dataset(..., d=...)\n",
        "(Xts_4, yts_4) = load_dataset(..., d=...)\n",
        "\n",
        "# Predict\n",
        "\n",
        "w, best_k_1, best_k_par_1 = model_data_test[\"dataset_1\"]\n",
        "y_pred_te1 = krls_predict(Xts_1, Xtr_1, w, best_k_1, best_k_par_1)\n",
        "\n",
        "w, best_k_2, best_k_par_2 = model_data_test[\"dataset_2\"]\n",
        "y_pred_te2 = krls_predict(Xts_2, Xtr_2, w, best_k_2, best_k_par_2)\n",
        "\n",
        "w, best_k_3, best_k_par_3 = model_data_test[\"dataset_3\"]\n",
        "y_pred_te3 = krls_predict(Xts_3, Xtr_3, w, best_k_3, best_k_par_3)\n",
        "\n",
        "w, best_k_4, best_k_par_4 = model_data_test[\"dataset_4\"]\n",
        "y_pred_te4 = krls_predict(Xts_4, Xtr_4, w, best_k_4, best_k_par_4)\n",
        "\n",
        "# Plotting\n",
        "# NOTE: for each plotting of the predictions, select\n",
        "# the right range to display (that depends on the dataset size)\n",
        "\n",
        "fig, ax = plt.subplots()\n",
        "plt.title(\"Dataset 1\")\n",
        "ax.scatter(Xts_1[:, 0], yts_1, label=\"True\")\n",
        "ax.scatter(Xts_1[..., 0], y_pred_te1, label=\"Predict\")\n",
        "ax.legend(loc=\"best\")\n",
        "\n",
        "fig, ax = plt.subplots()\n",
        "plt.title(\"Dataset 2\")\n",
        "ax.scatter(Xts_2[:, 0], yts_2, label=\"True\")\n",
        "ax.scatter(Xts_2[..., 0], y_pred_te2, label=\"Predict\")\n",
        "ax.legend(loc=\"best\")\n",
        "\n",
        "fig, ax = plt.subplots()\n",
        "plt.title(\"Dataset 3\")\n",
        "ax.scatter(Xts_3[:, 0], yts_3, label=\"True\")\n",
        "ax.scatter(Xts_3[..., 0], y_pred_te3, label=\"Predict\")\n",
        "ax.legend(loc=\"best\")\n",
        "\n",
        "fig, ax = plt.subplots()\n",
        "plt.title(\"Dataset 4\")\n",
        "ax.scatter(Xts_4[:, 0], yts_4, label=\"True\")\n",
        "ax.scatter(Xts_4[..., 0], y_pred_te4, label=\"Predict\")\n",
        "ax.legend(loc=\"best\")"
      ]
    }
  ],
  "metadata": {
    "accelerator": "TPU",
    "colab": {
      "provenance": [],
      "toc_visible": true
    },
    "kernelspec": {
      "display_name": "Python 3",
      "name": "python3"
    },
    "language_info": {
      "codemirror_mode": {
        "name": "ipython",
        "version": 3
      },
      "file_extension": ".py",
      "mimetype": "text/x-python",
      "name": "python",
      "nbconvert_exporter": "python",
      "pygments_lexer": "ipython3",
      "version": "3.12.0"
    }
  },
  "nbformat": 4,
  "nbformat_minor": 5
}
